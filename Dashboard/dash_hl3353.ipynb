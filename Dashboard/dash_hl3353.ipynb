{
 "cells": [
  {
   "cell_type": "code",
   "execution_count": 2,
   "metadata": {},
   "outputs": [],
   "source": [
    "import json\n",
    "\n",
    "from pandas.io.json import json_normalize\n",
    "import plotly.express as px\n",
    "import ipywidgets as widgets\n",
    "from IPython.display import clear_output, display\n",
    "import matplotlib.pyplot as plt\n",
    "from IPython.display import set_matplotlib_formats\n",
    "\n",
    "\n",
    "# reading the JSON data using json.load()\n",
    "file ='clean_data_sub-Copy1.json'\n",
    "with open(file) as train_file:\n",
    "    dict_train = json.load(train_file)\n"
   ]
  },
  {
   "cell_type": "code",
   "execution_count": 3,
   "metadata": {},
   "outputs": [],
   "source": [
    "total=[]\n",
    "for patient in dict_train:\n",
    "    test1=[]\n",
    "    for num in range (0,len(dict_train[patient])):\n",
    "        test1.append(dict_train[patient][num]['ICD_9'])\n",
    "    total.append(test1)"
   ]
  },
  {
   "cell_type": "code",
   "execution_count": 4,
   "metadata": {},
   "outputs": [],
   "source": [
    "import gensim\n",
    "from gensim.models import Word2Vec\n",
    "model_ted = Word2Vec(sentences=total, size=100, window=20, min_count=1, workers=4, sg=1,iter=100)\n",
    "#model_ted.wv.most_similar(\"80124\")"
   ]
  },
  {
   "cell_type": "code",
   "execution_count": 5,
   "metadata": {},
   "outputs": [],
   "source": [
    "my_dict = dict({})\n",
    "for idx, key in enumerate(model_ted.wv.vocab):\n",
    "    my_dict[key] = model_ted.wv[key]"
   ]
  },
  {
   "cell_type": "code",
   "execution_count": 6,
   "metadata": {},
   "outputs": [],
   "source": [
    "from fastdtw import fastdtw\n",
    "from scipy.spatial.distance import euclidean\n",
    "import matplotlib.pyplot as plt\n",
    "import numpy as np"
   ]
  },
  {
   "cell_type": "markdown",
   "metadata": {},
   "source": [
    "# Section"
   ]
  },
  {
   "cell_type": "code",
   "execution_count": 8,
   "metadata": {},
   "outputs": [],
   "source": [
    "### Patient Retrieval"
   ]
  },
  {
   "cell_type": "code",
   "execution_count": 9,
   "metadata": {
    "tags": [
     "text"
    ]
   },
   "outputs": [],
   "source": [
    "####  Similar Patient Retrieval"
   ]
  },
  {
   "cell_type": "code",
   "execution_count": 10,
   "metadata": {
    "tags": [
     "inputs"
    ]
   },
   "outputs": [
    {
     "data": {
      "application/vnd.jupyter.widget-view+json": {
       "model_id": "26c0803290f74c0faf2e82ff219e16ac",
       "version_major": 2,
       "version_minor": 0
      },
      "text/plain": [
       "VBox(children=(Label(value='similarPatients'), Text(value='4579', description='Patient'), Button(description='…"
      ]
     },
     "metadata": {},
     "output_type": "display_data"
    }
   ],
   "source": [
    "mu_label = widgets.Label(value=\"similarPatients\")\n",
    "mu_var = widgets.Text(description=\"Patient\", value=\"4579\")\n",
    "button = widgets.Button(description=\"Calculate\")\n",
    "widgets.VBox([mu_label, mu_var,button])"
   ]
  },
  {
   "cell_type": "code",
   "execution_count": 11,
   "metadata": {},
   "outputs": [],
   "source": [
    "out = widgets.Output()"
   ]
  },
  {
   "cell_type": "code",
   "execution_count": 12,
   "metadata": {},
   "outputs": [],
   "source": [
    "\n",
    "\n",
    "def most_similar_patient(change):\n",
    "    patient= mu_var.value\n",
    "    with out:\n",
    "        clear_output()\n",
    "        d=dict()\n",
    "        patient_num=[]\n",
    "        similarity=dict()\n",
    "        target_patient=dict_train[patient]\n",
    "        l=[]\n",
    "        for event in range(0,len(target_patient)):\n",
    "            icd=target_patient[event]['ICD_9']\n",
    "            embedding=my_dict[icd]\n",
    "            l.append(embedding)\n",
    "        d[patient]=l\n",
    "        for patients in dict_train:\n",
    "            m=[]\n",
    "            patient_event=dict_train[patients]\n",
    "            for event in range(0,len(patient_event)):\n",
    "                icd=patient_event[event]['ICD_9']\n",
    "                embedding=my_dict[icd]\n",
    "                m.append(embedding)\n",
    "            d[patients]=m\n",
    "        for key in d.keys():\n",
    "            patient_num.append(key)\n",
    "            distance, path = fastdtw(l,d[key],dist=euclidean)\n",
    "            similarity[key]=distance\n",
    "        top5=sorted(similarity.items(), key=lambda x: x[1])[:5]\n",
    "        print('Patient historical record\\n',json_normalize(dict_train[patient]))\n",
    "        print('Top5 similar patient',top5)\n",
    "\n",
    "mu_var.observe(most_similar_patient, names=\"value\")\n",
    "button.on_click(most_similar_patient)"
   ]
  },
  {
   "cell_type": "code",
   "execution_count": 13,
   "metadata": {
    "tags": [
     "chart"
    ]
   },
   "outputs": [
    {
     "data": {
      "application/vnd.jupyter.widget-view+json": {
       "model_id": "ad6019727d2c426ba84e03a96e3e13c7",
       "version_major": 2,
       "version_minor": 0
      },
      "text/plain": [
       "Output()"
      ]
     },
     "metadata": {},
     "output_type": "display_data"
    }
   ],
   "source": [
    "most_similar_patient(None)\n",
    "out"
   ]
  },
  {
   "cell_type": "code",
   "execution_count": 30,
   "metadata": {
    "tags": [
     "inputs"
    ]
   },
   "outputs": [
    {
     "data": {
      "application/vnd.jupyter.widget-view+json": {
       "model_id": "0f6a7f384e4041a29b96daeef96652b6",
       "version_major": 2,
       "version_minor": 0
      },
      "text/plain": [
       "VBox(children=(Label(value='Compare similiarity of two patients'), Text(value='4579', description='Patient A')…"
      ]
     },
     "metadata": {},
     "output_type": "display_data"
    }
   ],
   "source": [
    "labels = widgets.Label(value=\"Compare similiarity of two patients\")\n",
    "Patient_A = widgets.Text(description=\"Patient A\", value=\"4579\")\n",
    "Patient_B = widgets.Text(description=\"Patient B\", value=\"2080\")\n",
    "button1 = widgets.Button(description=\"Calculate\")\n",
    "widgets.VBox([labels,Patient_A,Patient_B,button1])\n"
   ]
  },
  {
   "cell_type": "code",
   "execution_count": 15,
   "metadata": {},
   "outputs": [],
   "source": [
    "out1=widgets.Output()"
   ]
  },
  {
   "cell_type": "code",
   "execution_count": 1,
   "metadata": {},
   "outputs": [],
   "source": [
    "def patient_similartiy(Patient_A,Patient_B):\n",
    "    pa_icd=[]\n",
    "    pb_icd=[]\n",
    "    for event in range(0,len(dict_train[Patient_A])):\n",
    "        icd=dict_train[Patient_A][event]['ICD_9']\n",
    "        embedding=my_dict[icd]\n",
    "        pa_icd.append(embedding)\n",
    "    for event in range(0,len(dict_train[Patient_B])):\n",
    "        icd=dict_train[Patient_B][event]['ICD_9']\n",
    "        embedding=my_dict[icd]\n",
    "        pb_icd.append(embedding)\n",
    "    distance, path = fastdtw(pa_icd,pb_icd,dist=euclidean)\n",
    "    index_a,index_b=zip(*path)\n",
    "    plot=plt.plot(index_a,index_b, color='k', linewidth=2)\n",
    "    #fig = go.Figure(data=go.Scatter(x=index_a, y=index_b))\n",
    "    figures = px.line(x=index_a, y=index_b, labels={'x':'Patient_a', 'y':'Patient_b'})\n",
    "    return(distance,path,plot.show())\n"
   ]
  },
  {
   "cell_type": "code",
   "execution_count": 17,
   "metadata": {},
   "outputs": [],
   "source": [
    "#def on_value_change(change):\n",
    "    #Patient_A = Patient_A.value\n",
    "    #Patient_B= Patient_B.value\n",
    "#    out.clear_output()\n",
    "#    with out:\n",
    "#        display(patient_similartiy(Patient_A.value,Patient_B.value))\n",
    "\n",
    "#def btn_eventhandler(obj):\n",
    "#    return(patient_similartiy,{'Patient_A': Patient_A.value, 'Patient_B': Patient_B.value})\n",
    "\n",
    "def on_button_clicked(change):\n",
    "      # \"linking function with output\"\n",
    "    \n",
    "    with out1:\n",
    "        clear_output()\n",
    "        # what happens when we press the button\n",
    "        print(patient_similartiy(Patient_A.value,Patient_B.value))\n",
    "Patient_A.observe(on_button_clicked, names=\"value\")\n",
    "Patient_B.observe(on_button_clicked, names=\"value\")\n",
    "\n",
    "button1.on_click(on_button_clicked)"
   ]
  },
  {
   "cell_type": "code",
   "execution_count": 91,
   "metadata": {
    "scrolled": true,
    "tags": [
     "chart"
    ]
   },
   "outputs": [
    {
     "data": {
      "application/vnd.jupyter.widget-view+json": {
       "model_id": "403e48f9eba84a109aed6750f75168a2",
       "version_major": 2,
       "version_minor": 0
      },
      "text/plain": [
       "Output(outputs=({'output_type': 'display_data', 'data': {'text/html': '        <script type=\"text/javascript\">…"
      ]
     },
     "metadata": {},
     "output_type": "display_data"
    }
   ],
   "source": [
    "on_button_clicked(None)\n",
    "out1"
   ]
  },
  {
   "cell_type": "markdown",
   "metadata": {},
   "source": [
    "# ICD-9 Retrival"
   ]
  },
  {
   "cell_type": "code",
   "execution_count": null,
   "metadata": {
    "tags": [
     "text"
    ]
   },
   "outputs": [],
   "source": [
    "#ICD-9 Retrival"
   ]
  },
  {
   "cell_type": "code",
   "execution_count": 19,
   "metadata": {},
   "outputs": [],
   "source": [
    "from sklearn.manifold import TSNE\n",
    "import matplotlib.pyplot as plt"
   ]
  },
  {
   "cell_type": "code",
   "execution_count": 84,
   "metadata": {
    "tags": [
     "inputs"
    ]
   },
   "outputs": [
    {
     "data": {
      "application/vnd.jupyter.widget-view+json": {
       "model_id": "79723c75c88d4454849e55c5ff5bd836",
       "version_major": 2,
       "version_minor": 0
      },
      "text/plain": [
       "VBox(children=(Label(value='Input ICD9'), Text(value='', description='ICD9'), Button(description='Calculate', …"
      ]
     },
     "metadata": {},
     "output_type": "display_data"
    }
   ],
   "source": [
    "icd9_label = widgets.Label(value=\"Input ICD9\")\n",
    "icd9_var= widgets.Text(description=\"ICD9\")\n",
    "widgets.VBox([icd9_label,icd9_var])\n",
    "button2= widgets.Button(description=\"Calculate\")\n",
    "widgets.VBox([icd9_label,icd9_var,button2])"
   ]
  },
  {
   "cell_type": "code",
   "execution_count": 88,
   "metadata": {},
   "outputs": [],
   "source": [
    "out2 = widgets.Output()"
   ]
  },
  {
   "cell_type": "code",
   "execution_count": 89,
   "metadata": {},
   "outputs": [],
   "source": [
    "def display_closestwords_tsnescatterplot(model, word):\n",
    "\n",
    "    word_labels = [word]\n",
    "\n",
    "    # get close words\n",
    "    close_words = model.similar_by_word(word)\n",
    "    vector_dim = model.vector_size\n",
    "    # add the vector for each of the closest words to the array\n",
    "    arr = np.empty((0,vector_dim), dtype='f')\n",
    "    for wrd_score in close_words:\n",
    "        wrd_vector = model[wrd_score[0]]\n",
    "        word_labels.append(wrd_score[0])\n",
    "        arr = np.append(arr, np.array([wrd_vector]), axis=0)\n",
    "        \n",
    "    # find tsne coords for 2 dimensions\n",
    "    tsne = TSNE(n_components=2, random_state=0)\n",
    "    np.set_printoptions(suppress=True)\n",
    "    Y = tsne.fit_transform(arr)\n",
    "\n",
    "    x_coords = Y[:, 0]\n",
    "    y_coords = Y[:, 1]\n",
    "    # display scatter plot\n",
    "    plt.scatter(x_coords, y_coords)\n",
    "\n",
    "    for label, x, y in zip(word_labels, x_coords, y_coords):\n",
    "        plt.annotate(label, xy=(x, y), xytext=(0, 0), textcoords='offset points')\n",
    "    plt.xlim(x_coords.min()+0.00005, x_coords.max()+0.00005)\n",
    "    plt.ylim(y_coords.min()+0.00005, y_coords.max()+0.00005)\n",
    "    plt.savefig('demonew_test++.png', bbox_inches='tight')"
   ]
  },
  {
   "cell_type": "code",
   "execution_count": 102,
   "metadata": {},
   "outputs": [],
   "source": [
    "def on_button_clicked2(change):\n",
    "      # \"linking function with output\"\n",
    "    model=model_ted\n",
    "    word=icd9_var.value\n",
    "    with out2:\n",
    "        clear_output()\n",
    "        # what happens when we press the button\n",
    "        return(display_closestwords_tsnescatterplot(model,word))\n",
    "icd9_var.observe(on_button_clicked2, names=\"value\")\n",
    "\n",
    "button2.on_click(on_button_clicked2)"
   ]
  },
  {
   "cell_type": "code",
   "execution_count": 101,
   "metadata": {
    "tags": [
     "chart"
    ]
   },
   "outputs": [
    {
     "data": {
      "application/vnd.jupyter.widget-view+json": {
       "model_id": "5da3bce7c88345bfaaa067da6c023414",
       "version_major": 2,
       "version_minor": 0
      },
      "text/plain": [
       "Output(outputs=({'output_type': 'stream', 'text': 'C:\\\\Users\\\\ariaa\\\\Anaconda3\\\\lib\\\\site-packages\\\\ipykernel_…"
      ]
     },
     "metadata": {},
     "output_type": "display_data"
    },
    {
     "data": {
      "image/png": "[encoded data removed]",
      "text/plain": [
       "<Figure size 432x288 with 1 Axes>"
      ]
     },
     "metadata": {
      "needs_background": "light"
     },
     "output_type": "display_data"
    }
   ],
   "source": [
    "on_button_clicked2(None)\n",
    "out2"
   ]
  },
  {
   "cell_type": "code",
   "execution_count": null,
   "metadata": {},
   "outputs": [],
   "source": []
  }
 ],
 "metadata": {
  "celltoolbar": "Tags",
  "kernelspec": {
   "display_name": "Python 3",
   "language": "python",
   "name": "python3"
  },
  "language_info": {
   "codemirror_mode": {
    "name": "ipython",
    "version": 3
   },
   "file_extension": ".py",
   "mimetype": "text/x-python",
   "name": "python",
   "nbconvert_exporter": "python",
   "pygments_lexer": "ipython3",
   "version": "3.7.4"
  }
 },
 "nbformat": 4,
 "nbformat_minor": 2
}
