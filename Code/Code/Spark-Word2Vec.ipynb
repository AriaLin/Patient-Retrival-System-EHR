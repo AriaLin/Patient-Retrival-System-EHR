{
 "cells": [
  {
   "cell_type": "code",
   "execution_count": 1,
   "metadata": {},
   "outputs": [],
   "source": [
    "import org.apache.spark.ml.feature.{Word2Vec, Word2VecModel}"
   ]
  },
  {
   "cell_type": "code",
   "execution_count": 2,
   "metadata": {
    "scrolled": true
   },
   "outputs": [
    {
     "data": {
      "text/plain": [
       "Waiting for a Spark session to start..."
      ]
     },
     "metadata": {},
     "output_type": "display_data"
    },
    {
     "data": {
      "text/plain": [
       "rdd = gs://stephxie-6895/listfile4.txt MapPartitionsRDD[1] at textFile at <console>:28\n",
       "rdd2 = [text: array<string>]\n"
      ]
     },
     "metadata": {},
     "output_type": "display_data"
    },
    {
     "data": {
      "text/plain": [
       "[text: array<string>]"
      ]
     },
     "execution_count": 2,
     "metadata": {},
     "output_type": "execute_result"
    }
   ],
   "source": [
    "val rdd = sc.textFile(\"gs://stephxie-6895/listfile4.txt\")\n",
    "val rdd2 = rdd.map(line => line.toLowerCase).\n",
    "            map(_.split(\" \")).\n",
    "            map(Tuple1.apply).\n",
    "            toDF(\"text\")"
   ]
  },
  {
   "cell_type": "code",
   "execution_count": 3,
   "metadata": {},
   "outputs": [
    {
     "data": {
      "text/html": [
       "<table>\n",
       "<tr><td>[aten25, gaba100]</td></tr>\n",
       "</table>"
      ],
      "text/plain": [
       "+-------------------+\n",
       "| [aten25, gaba100] |\n",
       "+-------------------+"
      ]
     },
     "execution_count": 3,
     "metadata": {},
     "output_type": "execute_result"
    }
   ],
   "source": [
    "rdd2.take(1)"
   ]
  },
  {
   "cell_type": "code",
   "execution_count": 4,
   "metadata": {},
   "outputs": [
    {
     "data": {
      "text/plain": [
       "word2vec = w2v_92f8b4a7abdf\n"
      ]
     },
     "metadata": {},
     "output_type": "display_data"
    },
    {
     "data": {
      "text/plain": [
       "w2v_92f8b4a7abdf"
      ]
     },
     "execution_count": 4,
     "metadata": {},
     "output_type": "execute_result"
    }
   ],
   "source": [
    "val word2vec = new org.apache.spark.ml.feature.Word2Vec().\n",
    "     setInputCol(\"text\").\n",
    "     setOutputCol(\"features\").\n",
    "     setVectorSize(200).\n",
    "     setMinCount(0).\n",
    "     setMaxIter(50)"
   ]
  },
  {
   "cell_type": "code",
   "execution_count": 6,
   "metadata": {},
   "outputs": [
    {
     "data": {
      "text/plain": [
       "model = w2v_92f8b4a7abdf\n"
      ]
     },
     "metadata": {},
     "output_type": "display_data"
    },
    {
     "data": {
      "text/plain": [
       "w2v_92f8b4a7abdf"
      ]
     },
     "execution_count": 6,
     "metadata": {},
     "output_type": "execute_result"
    }
   ],
   "source": [
    "val model = word2vec.fit(rdd2)"
   ]
  },
  {
   "cell_type": "code",
   "execution_count": 7,
   "metadata": {
    "scrolled": true
   },
   "outputs": [
    {
     "data": {
      "text/plain": [
       "result = [text: array<string>, features: vector]\n"
      ]
     },
     "metadata": {},
     "output_type": "display_data"
    },
    {
     "data": {
      "text/plain": [
       "[text: array<string>, features: vector]"
      ]
     },
     "execution_count": 7,
     "metadata": {},
     "output_type": "execute_result"
    }
   ],
   "source": [
    "val result = model.transform(rdd2)"
   ]
  },
  {
   "cell_type": "code",
   "execution_count": 8,
   "metadata": {
    "scrolled": true
   },
   "outputs": [
    {
     "data": {
      "text/plain": [
       "df = [word: string, vector: vector]\n"
      ]
     },
     "metadata": {},
     "output_type": "display_data"
    },
    {
     "data": {
      "text/plain": [
       "[word: string, vector: vector]"
      ]
     },
     "execution_count": 8,
     "metadata": {},
     "output_type": "execute_result"
    }
   ],
   "source": [
    "val df = model.getVectors.filter($\"word\" === \"aten25\")"
   ]
  },
  {
   "cell_type": "code",
   "execution_count": 12,
   "metadata": {
    "scrolled": true
   },
   "outputs": [
    {
     "name": "stdout",
     "output_type": "stream",
     "text": [
      "+-----------+--------------------+\n",
      "|       word|              vector|\n",
      "+-----------+--------------------+\n",
      "|      57410|[0.08606849610805...|\n",
      "|     3782.0|[0.44093295931816...|\n",
      "|    mege40l|[-0.1348615884780...|\n",
      "|    macr100|[-0.1039232611656...|\n",
      "|      29644|[-0.1229314729571...|\n",
      "|     8876.0|[0.44585743546485...|\n",
      "|      35781|[-0.1755153983831...|\n",
      "|      45385|[0.02785602398216...|\n",
      "|       2760|[0.02956386841833...|\n",
      "|       63.0|[0.71321177482604...|\n",
      "|      44023|[0.27470186352729...|\n",
      "|        515|[0.29041996598243...|\n",
      "|      28803|[-0.3964917659759...|\n",
      "|       8052|[-0.1912718117237...|\n",
      "|  nacl23.4i|[0.25673702359199...|\n",
      "|      28249|[0.67226463556289...|\n",
      "|      29284|[0.63775449991226...|\n",
      "|     4233.0|[0.27437391877174...|\n",
      "|metosusp10l|[1.10645031929016...|\n",
      "|      28984|[0.06335902959108...|\n",
      "+-----------+--------------------+\n",
      "only showing top 20 rows\n",
      "\n"
     ]
    }
   ],
   "source": [
    "model.getVectors.show"
   ]
  },
  {
   "cell_type": "code",
   "execution_count": 16,
   "metadata": {
    "scrolled": true
   },
   "outputs": [
    {
     "data": {
      "text/plain": [
       "ds = [word: string]\n"
      ]
     },
     "metadata": {},
     "output_type": "display_data"
    },
    {
     "data": {
      "text/plain": [
       "[word: string]"
      ]
     },
     "execution_count": 16,
     "metadata": {},
     "output_type": "execute_result"
    }
   ],
   "source": [
    "val ds = model.findSynonyms(\"aten25\", 20).select(\"word\")"
   ]
  },
  {
   "cell_type": "code",
   "execution_count": 17,
   "metadata": {
    "scrolled": false
   },
   "outputs": [
    {
     "name": "stdout",
     "output_type": "stream",
     "text": [
      "+-------+\n",
      "|   word|\n",
      "+-------+\n",
      "| topr50|\n",
      "| hctz25|\n",
      "|  42769|\n",
      "|  49320|\n",
      "| 4823.0|\n",
      "| 4881.0|\n",
      "|  71590|\n",
      "|   4589|\n",
      "|   4439|\n",
      "|   2720|\n",
      "|   2765|\n",
      "|   7048|\n",
      "|   5180|\n",
      "|  v4582|\n",
      "| cill50|\n",
      "| ator20|\n",
      "|    566|\n",
      "|  53081|\n",
      "| lev500|\n",
      "|gaba100|\n",
      "+-------+\n",
      "\n"
     ]
    }
   ],
   "source": [
    "ds.show"
   ]
  },
  {
   "cell_type": "code",
   "execution_count": 23,
   "metadata": {
    "scrolled": true
   },
   "outputs": [
    {
     "data": {
      "text/plain": [
       "synonyms = [word: string, similarity: double]\n"
      ]
     },
     "metadata": {},
     "output_type": "display_data"
    },
    {
     "data": {
      "text/plain": [
       "[word: string, similarity: double]"
      ]
     },
     "execution_count": 23,
     "metadata": {},
     "output_type": "execute_result"
    }
   ],
   "source": [
    "val synonyms = model.findSynonyms(\"aten25\", 20)"
   ]
  },
  {
   "cell_type": "code",
   "execution_count": 24,
   "metadata": {},
   "outputs": [
    {
     "name": "stdout",
     "output_type": "stream",
     "text": [
      "+-------+-------------------+\n",
      "|   word|         similarity|\n",
      "+-------+-------------------+\n",
      "| topr50| 0.6053675413131714|\n",
      "| hctz25| 0.5762994289398193|\n",
      "|  42769| 0.5510246157646179|\n",
      "|  49320| 0.5212512016296387|\n",
      "| 4823.0| 0.5142900347709656|\n",
      "| 4881.0| 0.5130040049552917|\n",
      "|  71590|0.49900346994400024|\n",
      "|   4589|0.49728673696517944|\n",
      "|   4439|0.47791099548339844|\n",
      "|   2720|0.47099921107292175|\n",
      "|   2765|0.46940693259239197|\n",
      "|   7048| 0.4664931297302246|\n",
      "|   5180|0.46129298210144043|\n",
      "|  v4582|0.46122118830680847|\n",
      "| cill50| 0.4498251974582672|\n",
      "| ator20|0.44093233346939087|\n",
      "|    566| 0.4358844459056854|\n",
      "|  53081| 0.4232785105705261|\n",
      "| lev500|0.39566564559936523|\n",
      "|gaba100|0.38527387380599976|\n",
      "+-------+-------------------+\n",
      "\n"
     ]
    }
   ],
   "source": [
    "synonyms.show"
   ]
  },
  {
   "cell_type": "code",
   "execution_count": 25,
   "metadata": {},
   "outputs": [],
   "source": [
    "model.save(\"gs://stephxie-6895/word2vec\")"
   ]
  },
  {
   "cell_type": "code",
   "execution_count": 34,
   "metadata": {
    "scrolled": true
   },
   "outputs": [
    {
     "data": {
      "text/plain": [
       "embedding = [word: string, vector: vector]\n"
      ]
     },
     "metadata": {},
     "output_type": "display_data"
    },
    {
     "data": {
      "text/plain": [
       "[word: string, vector: vector]"
      ]
     },
     "execution_count": 34,
     "metadata": {},
     "output_type": "execute_result"
    }
   ],
   "source": [
    "val embedding = model.getVectors"
   ]
  }
 ],
 "metadata": {
  "kernelspec": {
   "display_name": "Toree - Scala",
   "language": "scala",
   "name": "toree_scala"
  },
  "language_info": {
   "codemirror_mode": "text/x-scala",
   "file_extension": ".scala",
   "mimetype": "text/x-scala",
   "name": "scala",
   "pygments_lexer": "scala",
   "version": "2.11.8"
  }
 },
 "nbformat": 4,
 "nbformat_minor": 4
}
